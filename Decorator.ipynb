{
 "cells": [
  {
   "cell_type": "code",
   "execution_count": 1,
   "metadata": {},
   "outputs": [],
   "source": [
    "# Decorators can be thought as a function that modifies the behaviour of another function"
   ]
  },
  {
   "cell_type": "code",
   "execution_count": 2,
   "metadata": {},
   "outputs": [],
   "source": [
    "def fun():\n",
    "    return 1"
   ]
  },
  {
   "cell_type": "code",
   "execution_count": 3,
   "metadata": {},
   "outputs": [
    {
     "data": {
      "text/plain": [
       "<function __main__.fun()>"
      ]
     },
     "execution_count": 3,
     "metadata": {},
     "output_type": "execute_result"
    }
   ],
   "source": [
    "fun"
   ]
  },
  {
   "cell_type": "code",
   "execution_count": 4,
   "metadata": {},
   "outputs": [
    {
     "data": {
      "text/plain": [
       "1"
      ]
     },
     "execution_count": 4,
     "metadata": {},
     "output_type": "execute_result"
    }
   ],
   "source": [
    "fun()"
   ]
  },
  {
   "cell_type": "code",
   "execution_count": 5,
   "metadata": {},
   "outputs": [],
   "source": [
    "s = 'this is global variable'\n",
    "\n",
    "# globals() and locals() are two builtin bunctions. They returns the variables (of their calling scope) and their value\n",
    "# in the form of dictonary"
   ]
  },
  {
   "cell_type": "code",
   "execution_count": 6,
   "metadata": {},
   "outputs": [
    {
     "data": {
      "text/plain": [
       "{'__name__': '__main__',\n",
       " '__doc__': 'Automatically created module for IPython interactive environment',\n",
       " '__package__': None,\n",
       " '__loader__': None,\n",
       " '__spec__': None,\n",
       " '__builtin__': <module 'builtins' (built-in)>,\n",
       " '__builtins__': <module 'builtins' (built-in)>,\n",
       " '_ih': ['',\n",
       "  '# Decorators can be thought as a function that modifies the behaviour of another function',\n",
       "  'def fun():\\n    return 1',\n",
       "  'fun',\n",
       "  'fun()',\n",
       "  \"s = 'this is global variable'\\n\\n# globals() and locals() are two builtin bunctions. They returns the variables (of their calling scope) and their value\\n# in the form of dictonary\",\n",
       "  'globals()\\n\\n# returns all the variables in global scope'],\n",
       " '_oh': {3: <function __main__.fun()>, 4: 1},\n",
       " '_dh': ['C:\\\\Users\\\\raian\\\\OneDrive\\\\Documents\\\\GitHub\\\\Python-Basics'],\n",
       " 'In': ['',\n",
       "  '# Decorators can be thought as a function that modifies the behaviour of another function',\n",
       "  'def fun():\\n    return 1',\n",
       "  'fun',\n",
       "  'fun()',\n",
       "  \"s = 'this is global variable'\\n\\n# globals() and locals() are two builtin bunctions. They returns the variables (of their calling scope) and their value\\n# in the form of dictonary\",\n",
       "  'globals()\\n\\n# returns all the variables in global scope'],\n",
       " 'Out': {3: <function __main__.fun()>, 4: 1},\n",
       " 'get_ipython': <bound method InteractiveShell.get_ipython of <ipykernel.zmqshell.ZMQInteractiveShell object at 0x00000195D5612DD8>>,\n",
       " 'exit': <IPython.core.autocall.ZMQExitAutocall at 0x195d5671278>,\n",
       " 'quit': <IPython.core.autocall.ZMQExitAutocall at 0x195d5671278>,\n",
       " '_': 1,\n",
       " '__': <function __main__.fun()>,\n",
       " '___': '',\n",
       " '_i': \"s = 'this is global variable'\\n\\n# globals() and locals() are two builtin bunctions. They returns the variables (of their calling scope) and their value\\n# in the form of dictonary\",\n",
       " '_ii': 'fun()',\n",
       " '_iii': 'fun',\n",
       " '_i1': '# Decorators can be thought as a function that modifies the behaviour of another function',\n",
       " '_i2': 'def fun():\\n    return 1',\n",
       " 'fun': <function __main__.fun()>,\n",
       " '_i3': 'fun',\n",
       " '_3': <function __main__.fun()>,\n",
       " '_i4': 'fun()',\n",
       " '_4': 1,\n",
       " '_i5': \"s = 'this is global variable'\\n\\n# globals() and locals() are two builtin bunctions. They returns the variables (of their calling scope) and their value\\n# in the form of dictonary\",\n",
       " 's': 'this is global variable',\n",
       " '_i6': 'globals()\\n\\n# returns all the variables in global scope'}"
      ]
     },
     "execution_count": 6,
     "metadata": {},
     "output_type": "execute_result"
    }
   ],
   "source": [
    "globals()\n",
    "\n",
    "# returns all the variables in global scope"
   ]
  },
  {
   "cell_type": "code",
   "execution_count": 7,
   "metadata": {},
   "outputs": [
    {
     "data": {
      "text/plain": [
       "'this is global variable'"
      ]
     },
     "execution_count": 7,
     "metadata": {},
     "output_type": "execute_result"
    }
   ],
   "source": [
    "globals()['s']"
   ]
  },
  {
   "cell_type": "code",
   "execution_count": 8,
   "metadata": {},
   "outputs": [
    {
     "data": {
      "text/plain": [
       "{'__name__': '__main__',\n",
       " '__doc__': 'Automatically created module for IPython interactive environment',\n",
       " '__package__': None,\n",
       " '__loader__': None,\n",
       " '__spec__': None,\n",
       " '__builtin__': <module 'builtins' (built-in)>,\n",
       " '__builtins__': <module 'builtins' (built-in)>,\n",
       " '_ih': ['',\n",
       "  '# Decorators can be thought as a function that modifies the behaviour of another function',\n",
       "  'def fun():\\n    return 1',\n",
       "  'fun',\n",
       "  'fun()',\n",
       "  \"s = 'this is global variable'\\n\\n# globals() and locals() are two builtin bunctions. They returns the variables (of their calling scope) and their value\\n# in the form of dictonary\",\n",
       "  'globals()\\n\\n# returns all the variables in global scope',\n",
       "  \"globals()['s']\",\n",
       "  'locals()'],\n",
       " '_oh': {3: <function __main__.fun()>,\n",
       "  4: 1,\n",
       "  6: {...},\n",
       "  7: 'this is global variable'},\n",
       " '_dh': ['C:\\\\Users\\\\raian\\\\OneDrive\\\\Documents\\\\GitHub\\\\Python-Basics'],\n",
       " 'In': ['',\n",
       "  '# Decorators can be thought as a function that modifies the behaviour of another function',\n",
       "  'def fun():\\n    return 1',\n",
       "  'fun',\n",
       "  'fun()',\n",
       "  \"s = 'this is global variable'\\n\\n# globals() and locals() are two builtin bunctions. They returns the variables (of their calling scope) and their value\\n# in the form of dictonary\",\n",
       "  'globals()\\n\\n# returns all the variables in global scope',\n",
       "  \"globals()['s']\",\n",
       "  'locals()'],\n",
       " 'Out': {3: <function __main__.fun()>,\n",
       "  4: 1,\n",
       "  6: {...},\n",
       "  7: 'this is global variable'},\n",
       " 'get_ipython': <bound method InteractiveShell.get_ipython of <ipykernel.zmqshell.ZMQInteractiveShell object at 0x00000195D5612DD8>>,\n",
       " 'exit': <IPython.core.autocall.ZMQExitAutocall at 0x195d5671278>,\n",
       " 'quit': <IPython.core.autocall.ZMQExitAutocall at 0x195d5671278>,\n",
       " '_': 'this is global variable',\n",
       " '__': {...},\n",
       " '___': 1,\n",
       " '_i': \"globals()['s']\",\n",
       " '_ii': 'globals()\\n\\n# returns all the variables in global scope',\n",
       " '_iii': \"s = 'this is global variable'\\n\\n# globals() and locals() are two builtin bunctions. They returns the variables (of their calling scope) and their value\\n# in the form of dictonary\",\n",
       " '_i1': '# Decorators can be thought as a function that modifies the behaviour of another function',\n",
       " '_i2': 'def fun():\\n    return 1',\n",
       " 'fun': <function __main__.fun()>,\n",
       " '_i3': 'fun',\n",
       " '_3': <function __main__.fun()>,\n",
       " '_i4': 'fun()',\n",
       " '_4': 1,\n",
       " '_i5': \"s = 'this is global variable'\\n\\n# globals() and locals() are two builtin bunctions. They returns the variables (of their calling scope) and their value\\n# in the form of dictonary\",\n",
       " 's': 'this is global variable',\n",
       " '_i6': 'globals()\\n\\n# returns all the variables in global scope',\n",
       " '_6': {...},\n",
       " '_i7': \"globals()['s']\",\n",
       " '_7': 'this is global variable',\n",
       " '_i8': 'locals()'}"
      ]
     },
     "execution_count": 8,
     "metadata": {},
     "output_type": "execute_result"
    }
   ],
   "source": [
    "locals()"
   ]
  },
  {
   "cell_type": "code",
   "execution_count": 9,
   "metadata": {},
   "outputs": [],
   "source": [
    "def fun():\n",
    "    return locals()"
   ]
  },
  {
   "cell_type": "code",
   "execution_count": 10,
   "metadata": {},
   "outputs": [
    {
     "data": {
      "text/plain": [
       "{}"
      ]
     },
     "execution_count": 10,
     "metadata": {},
     "output_type": "execute_result"
    }
   ],
   "source": [
    "fun()"
   ]
  },
  {
   "cell_type": "code",
   "execution_count": 11,
   "metadata": {},
   "outputs": [],
   "source": [
    "# we know function is an object, so it can be assigned to a variable"
   ]
  },
  {
   "cell_type": "code",
   "execution_count": 12,
   "metadata": {},
   "outputs": [],
   "source": [
    "def hello(name='Anshu'):\n",
    "    return 'hello ' + name "
   ]
  },
  {
   "cell_type": "code",
   "execution_count": 13,
   "metadata": {},
   "outputs": [],
   "source": [
    "newFun = hello"
   ]
  },
  {
   "cell_type": "code",
   "execution_count": 14,
   "metadata": {},
   "outputs": [
    {
     "data": {
      "text/plain": [
       "<function __main__.hello(name='Anshu')>"
      ]
     },
     "execution_count": 14,
     "metadata": {},
     "output_type": "execute_result"
    }
   ],
   "source": [
    "newFun"
   ]
  },
  {
   "cell_type": "code",
   "execution_count": 15,
   "metadata": {},
   "outputs": [
    {
     "data": {
      "text/plain": [
       "'hello Anshu'"
      ]
     },
     "execution_count": 15,
     "metadata": {},
     "output_type": "execute_result"
    }
   ],
   "source": [
    "newFun()"
   ]
  },
  {
   "cell_type": "code",
   "execution_count": 16,
   "metadata": {},
   "outputs": [],
   "source": [
    "del newFun"
   ]
  },
  {
   "cell_type": "code",
   "execution_count": 17,
   "metadata": {},
   "outputs": [
    {
     "ename": "NameError",
     "evalue": "name 'newFun' is not defined",
     "output_type": "error",
     "traceback": [
      "\u001b[1;31m---------------------------------------------------------------------------\u001b[0m",
      "\u001b[1;31mNameError\u001b[0m                                 Traceback (most recent call last)",
      "\u001b[1;32m<ipython-input-17-1e53d993e3fe>\u001b[0m in \u001b[0;36m<module>\u001b[1;34m()\u001b[0m\n\u001b[1;32m----> 1\u001b[1;33m \u001b[0mnewFun\u001b[0m\u001b[1;33m(\u001b[0m\u001b[1;33m)\u001b[0m\u001b[1;33m\u001b[0m\u001b[0m\n\u001b[0m",
      "\u001b[1;31mNameError\u001b[0m: name 'newFun' is not defined"
     ]
    }
   ],
   "source": [
    "newFun()"
   ]
  },
  {
   "cell_type": "code",
   "execution_count": 18,
   "metadata": {},
   "outputs": [
    {
     "data": {
      "text/plain": [
       "'hello Anshu'"
      ]
     },
     "execution_count": 18,
     "metadata": {},
     "output_type": "execute_result"
    }
   ],
   "source": [
    "hello()"
   ]
  },
  {
   "cell_type": "markdown",
   "metadata": {},
   "source": [
    "# Functions inside function"
   ]
  },
  {
   "cell_type": "code",
   "execution_count": 19,
   "metadata": {},
   "outputs": [],
   "source": [
    " def hello():\n",
    "        \n",
    "    def welcome():\n",
    "        return 'Inside welcome'\n",
    "    def greet():\n",
    "        return 'Inside greet'\n",
    "    \n",
    "    return greet()"
   ]
  },
  {
   "cell_type": "code",
   "execution_count": 20,
   "metadata": {},
   "outputs": [],
   "source": [
    "a = hello()"
   ]
  },
  {
   "cell_type": "code",
   "execution_count": 21,
   "metadata": {},
   "outputs": [
    {
     "data": {
      "text/plain": [
       "'Inside greet'"
      ]
     },
     "execution_count": 21,
     "metadata": {},
     "output_type": "execute_result"
    }
   ],
   "source": [
    "a"
   ]
  },
  {
   "cell_type": "code",
   "execution_count": null,
   "metadata": {},
   "outputs": [],
   "source": []
  }
 ],
 "metadata": {
  "kernelspec": {
   "display_name": "Python 3",
   "language": "python",
   "name": "python3"
  },
  "language_info": {
   "codemirror_mode": {
    "name": "ipython",
    "version": 3
   },
   "file_extension": ".py",
   "mimetype": "text/x-python",
   "name": "python",
   "nbconvert_exporter": "python",
   "pygments_lexer": "ipython3",
   "version": "3.6.5"
  }
 },
 "nbformat": 4,
 "nbformat_minor": 2
}
