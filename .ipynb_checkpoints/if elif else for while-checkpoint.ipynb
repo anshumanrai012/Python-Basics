{
 "cells": [
  {
   "cell_type": "code",
   "execution_count": 2,
   "metadata": {},
   "outputs": [
    {
     "name": "stdout",
     "output_type": "stream",
     "text": [
      "Its true\n"
     ]
    }
   ],
   "source": [
    "if True:\n",
    "    print('Its true')"
   ]
  },
  {
   "cell_type": "code",
   "execution_count": 3,
   "metadata": {},
   "outputs": [],
   "source": [
    "lst = [1,2,4,5,6,7,8,9]"
   ]
  },
  {
   "cell_type": "code",
   "execution_count": 4,
   "metadata": {},
   "outputs": [
    {
     "name": "stdout",
     "output_type": "stream",
     "text": [
      "1\n",
      "2\n",
      "4\n",
      "5\n",
      "6\n",
      "7\n",
      "8\n",
      "9\n"
     ]
    }
   ],
   "source": [
    "for item in lst:\n",
    "    print(item)"
   ]
  },
  {
   "cell_type": "code",
   "execution_count": 5,
   "metadata": {},
   "outputs": [
    {
     "name": "stdout",
     "output_type": "stream",
     "text": [
      "1 is odd\n",
      "2 is even\n",
      "4 is even\n",
      "5 is odd\n",
      "6 is even\n",
      "7 is odd\n",
      "8 is even\n",
      "9 is odd\n"
     ]
    }
   ],
   "source": [
    "for item in lst:\n",
    "    if item % 2 == 0:\n",
    "        print('{it} is even'.format(it = item))\n",
    "        \n",
    "    else:\n",
    "        print('{it} is odd'.format(it = item))"
   ]
  },
  {
   "cell_type": "code",
   "execution_count": 6,
   "metadata": {},
   "outputs": [
    {
     "name": "stdout",
     "output_type": "stream",
     "text": [
      "42\n"
     ]
    }
   ],
   "source": [
    "sum = 0\n",
    "for item in lst:\n",
    "    sum = sum + item;\n",
    "    \n",
    "print(sum)"
   ]
  },
  {
   "cell_type": "code",
   "execution_count": 7,
   "metadata": {},
   "outputs": [
    {
     "name": "stdout",
     "output_type": "stream",
     "text": [
      "W\n",
      "e\n",
      "l\n",
      "l\n",
      ",\n",
      " \n",
      "H\n",
      "e\n",
      "l\n",
      "l\n",
      "o\n",
      " \n",
      "b\n",
      "e\n",
      "a\n",
      "u\n",
      "t\n",
      "i\n",
      "f\n",
      "u\n",
      "l\n"
     ]
    }
   ],
   "source": [
    "str = \"Well, Hello beautiful\"\n",
    "\n",
    "for s in str:\n",
    "    print(s)"
   ]
  },
  {
   "cell_type": "code",
   "execution_count": 8,
   "metadata": {},
   "outputs": [
    {
     "name": "stdout",
     "output_type": "stream",
     "text": [
      "11\n",
      "5\n",
      "4\n",
      "2\n",
      "77\n",
      "69\n",
      "25\n"
     ]
    }
   ],
   "source": [
    "tp = (11,5,4,2,77,69,25)\n",
    "\n",
    "for t in tp:\n",
    "    print(t)"
   ]
  },
  {
   "cell_type": "code",
   "execution_count": 9,
   "metadata": {},
   "outputs": [
    {
     "name": "stdout",
     "output_type": "stream",
     "text": [
      "(1, 2)\n",
      "(4, 5)\n",
      "(1, 9)\n"
     ]
    }
   ],
   "source": [
    "lstTup = [(1,2),(4,5),(1,9)]\n",
    "\n",
    "for ls in lstTup:\n",
    "    print(ls)\n"
   ]
  },
  {
   "cell_type": "code",
   "execution_count": 10,
   "metadata": {},
   "outputs": [
    {
     "name": "stdout",
     "output_type": "stream",
     "text": [
      "1\n",
      "2\n",
      "4\n",
      "5\n",
      "1\n",
      "9\n"
     ]
    }
   ],
   "source": [
    "for ls in lstTup:\n",
    "    for tp in ls:\n",
    "        print(tp)"
   ]
  },
  {
   "cell_type": "code",
   "execution_count": 11,
   "metadata": {},
   "outputs": [
    {
     "name": "stdout",
     "output_type": "stream",
     "text": [
      "1\n",
      "2\n",
      "4\n",
      "5\n",
      "1\n",
      "9\n"
     ]
    }
   ],
   "source": [
    "for (t1,t2) in lstTup:\n",
    "    print(t1)\n",
    "    print(t2)\n",
    "    "
   ]
  },
  {
   "cell_type": "code",
   "execution_count": 12,
   "metadata": {},
   "outputs": [
    {
     "name": "stdout",
     "output_type": "stream",
     "text": [
      "-1\n",
      "-1\n",
      "-8\n"
     ]
    }
   ],
   "source": [
    "for (t1,t2) in lstTup:\n",
    "    print(t1 - t2)\n",
    "\n",
    "    \n",
    "    "
   ]
  },
  {
   "cell_type": "code",
   "execution_count": 13,
   "metadata": {},
   "outputs": [],
   "source": [
    "dict = {'k1': 1,'k2':2, 'k3':8}"
   ]
  },
  {
   "cell_type": "code",
   "execution_count": 14,
   "metadata": {},
   "outputs": [
    {
     "name": "stdout",
     "output_type": "stream",
     "text": [
      "k1\n",
      "k2\n",
      "k3\n"
     ]
    }
   ],
   "source": [
    "for item in dict:\n",
    "    print(item)"
   ]
  },
  {
   "cell_type": "code",
   "execution_count": 22,
   "metadata": {},
   "outputs": [
    {
     "name": "stdout",
     "output_type": "stream",
     "text": [
      "k1\n",
      "1\n",
      "k2\n",
      "2\n",
      "k3\n",
      "8\n"
     ]
    }
   ],
   "source": [
    "for key,val in dict.items():\n",
    "    print(key)\n",
    "    print(val)"
   ]
  },
  {
   "cell_type": "code",
   "execution_count": 26,
   "metadata": {},
   "outputs": [
    {
     "name": "stdout",
     "output_type": "stream",
     "text": [
      "0\n",
      "1\n",
      "2\n",
      "3\n",
      "4\n",
      "5\n",
      "6\n",
      "7\n",
      "8\n",
      "9\n"
     ]
    }
   ],
   "source": [
    "n = 0\n",
    "while(n < 10):\n",
    "    print(n)\n",
    "    n = n + 1"
   ]
  },
  {
   "cell_type": "code",
   "execution_count": 2,
   "metadata": {},
   "outputs": [
    {
     "name": "stdout",
     "output_type": "stream",
     "text": [
      "inside while\n",
      "continue...\n",
      "inside while\n",
      "continue...\n",
      "inside while\n",
      "continue...\n",
      "inside while\n",
      "inside if\n",
      "inside while\n",
      "continue...\n",
      "inside while\n",
      "continue...\n",
      "inside while\n",
      "continue...\n",
      "inside while\n",
      "continue...\n",
      "inside while\n",
      "continue...\n",
      "inside while\n",
      "continue...\n"
     ]
    }
   ],
   "source": [
    "num = 0\n",
    "while (num < 10):\n",
    "    print('inside while')\n",
    "    num = num + 1\n",
    "        \n",
    "    if num == 4:\n",
    "        print('inside if')\n",
    "        \n",
    "    else:\n",
    "        print('continue...')\n",
    "        \n",
    "    \n",
    "    "
   ]
  },
  {
   "cell_type": "code",
   "execution_count": 3,
   "metadata": {},
   "outputs": [
    {
     "name": "stdout",
     "output_type": "stream",
     "text": [
      "inside while\n",
      "continue...\n",
      "inside while\n",
      "continue...\n",
      "inside while\n",
      "continue...\n",
      "inside while\n"
     ]
    }
   ],
   "source": [
    "num = 0\n",
    "while (num < 10):\n",
    "    print('inside while')\n",
    "    num = num + 1\n",
    "        \n",
    "    if num == 4:\n",
    "        break\n",
    "        \n",
    "    else:\n",
    "        print('continue...')\n",
    "        "
   ]
  },
  {
   "cell_type": "code",
   "execution_count": null,
   "metadata": {},
   "outputs": [],
   "source": []
  }
 ],
 "metadata": {
  "kernelspec": {
   "display_name": "Python 3",
   "language": "python",
   "name": "python3"
  },
  "language_info": {
   "codemirror_mode": {
    "name": "ipython",
    "version": 3
   },
   "file_extension": ".py",
   "mimetype": "text/x-python",
   "name": "python",
   "nbconvert_exporter": "python",
   "pygments_lexer": "ipython3",
   "version": "3.6.5"
  }
 },
 "nbformat": 4,
 "nbformat_minor": 2
}
