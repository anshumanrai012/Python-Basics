{
 "cells": [
  {
   "cell_type": "markdown",
   "metadata": {},
   "source": [
    "# 3.----------- Print Formatting ---------"
   ]
  },
  {
   "cell_type": "code",
   "execution_count": 6,
   "metadata": {},
   "outputs": [
    {
     "name": "stdout",
     "output_type": "stream",
     "text": [
      "this is a string with another: string\n"
     ]
    }
   ],
   "source": [
    "str = 'string'\n",
    "print('this is a string with another: %s'  %(str))"
   ]
  },
  {
   "cell_type": "code",
   "execution_count": 7,
   "metadata": {},
   "outputs": [
    {
     "name": "stdout",
     "output_type": "stream",
     "text": [
      "this is a string with another: 123\n"
     ]
    }
   ],
   "source": [
    "a = 123\n",
    "print('this is a string with another: %s'  %(a))"
   ]
  },
  {
   "cell_type": "code",
   "execution_count": 8,
   "metadata": {},
   "outputs": [
    {
     "name": "stdout",
     "output_type": "stream",
     "text": [
      "this is a string with another: 144.37\n"
     ]
    }
   ],
   "source": [
    "print('this is a string with another: %1.2f'  %(144.3698))"
   ]
  },
  {
   "cell_type": "code",
   "execution_count": 9,
   "metadata": {},
   "outputs": [
    {
     "name": "stdout",
     "output_type": "stream",
     "text": [
      "this is a string with another: 144.3698000000\n"
     ]
    }
   ],
   "source": [
    "print('this is a string with another: %1.10f'  %(144.3698))"
   ]
  },
  {
   "cell_type": "code",
   "execution_count": 11,
   "metadata": {},
   "outputs": [
    {
     "name": "stdout",
     "output_type": "stream",
     "text": [
      "this is a string with another: 144.37\n"
     ]
    }
   ],
   "source": [
    "print('this is a string with another: %5.2f'  %(144.3698))"
   ]
  },
  {
   "cell_type": "code",
   "execution_count": 14,
   "metadata": {},
   "outputs": [
    {
     "name": "stdout",
     "output_type": "stream",
     "text": [
      "First: 144.3698, Second: bruce, Third: wayne\n"
     ]
    }
   ],
   "source": [
    "print('First: %s, Second: %s, Third: %s'  %(144.3698, 'bruce', 'wayne'))"
   ]
  },
  {
   "cell_type": "code",
   "execution_count": 18,
   "metadata": {},
   "outputs": [
    {
     "name": "stdout",
     "output_type": "stream",
     "text": [
      "value of x1 is 20 and value of x2 is 30\n"
     ]
    }
   ],
   "source": [
    "# format Method- (best method of string formatting)\n",
    "\n",
    "print('value of x1 is {x1} and value of x2 is {x2}'.format(x1 = 20, x2 = 30))"
   ]
  }
 ],
 "metadata": {
  "kernelspec": {
   "display_name": "Python 3",
   "language": "python",
   "name": "python3"
  },
  "language_info": {
   "codemirror_mode": {
    "name": "ipython",
    "version": 3
   },
   "file_extension": ".py",
   "mimetype": "text/x-python",
   "name": "python",
   "nbconvert_exporter": "python",
   "pygments_lexer": "ipython3",
   "version": "3.6.5"
  }
 },
 "nbformat": 4,
 "nbformat_minor": 2
}
